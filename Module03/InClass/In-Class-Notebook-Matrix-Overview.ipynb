{
 "cells": [
  {
   "cell_type": "code",
   "execution_count": 1,
   "id": "1046f22f",
   "metadata": {},
   "outputs": [],
   "source": [
    "import numpy as np\n",
    "%matplotlib notebook"
   ]
  },
  {
   "cell_type": "markdown",
   "id": "fe064b7d",
   "metadata": {},
   "source": [
    "# Matrix Review"
   ]
  },
  {
   "cell_type": "markdown",
   "id": "32ab1ffd",
   "metadata": {},
   "source": [
    "Take the matricies:\n",
    "\n",
    "$\\bf{A} =\n",
    "\\begin{pmatrix}\n",
    "2 & 4 & -7\\\\\n",
    "3 & -3 & 0\\\\\n",
    "1 & 7 & 5\n",
    "\\end{pmatrix},\\;\\;\n",
    "\\bf{B} =\n",
    "\\begin{pmatrix}\n",
    "2 & 4\\\\\n",
    "3 & -3\\\\\n",
    "1 & 7\n",
    "\\end{pmatrix}, \\;\\;\n",
    "\\bf{C} =\n",
    "\\begin{pmatrix}\n",
    "-1 & 1\\\\\n",
    "1 & -1\n",
    "\\end{pmatrix}, \\;\\;\n",
    "\\bf{D} = \n",
    "\\begin{pmatrix}\n",
    "2 & 0\\\\\n",
    "-3 & 6\n",
    "\\end{pmatrix}\n",
    "$ \n",
    "\n",
    "Define the matricies as numpy arrays"
   ]
  },
  {
   "cell_type": "code",
   "execution_count": 11,
   "id": "2a79ff35",
   "metadata": {},
   "outputs": [],
   "source": [
    "matrixA = np.array([[2,4,-7],[3,-3,0],[1,7,5]])\n",
    "matrixB = np.array([[2,4],[3,-3],[1,7]])\n",
    "matrixC = np.array([[-1,1],[1,-1]])\n",
    "matrixD = np.array([[2,0],[-3,6]])"
   ]
  },
  {
   "cell_type": "markdown",
   "id": "34e68189",
   "metadata": {},
   "source": [
    "1. Multiply $\\bf{A}$ by 2.5 "
   ]
  },
  {
   "cell_type": "code",
   "execution_count": 12,
   "id": "df60132e",
   "metadata": {},
   "outputs": [
    {
     "data": {
      "text/plain": [
       "array([[  5. ,  10. , -17.5],\n",
       "       [  7.5,  -7.5,   0. ],\n",
       "       [  2.5,  17.5,  12.5]])"
      ]
     },
     "execution_count": 12,
     "metadata": {},
     "output_type": "execute_result"
    }
   ],
   "source": [
    "matrixA = matrixA* 2.5\n",
    "matrixA\n"
   ]
  },
  {
   "cell_type": "markdown",
   "id": "498f92cf",
   "metadata": {},
   "source": [
    "2. Evaluate the product of $\\bf{C}\\cdot\\bf{A}$ \n",
    "\n",
    "Did you get an error? Do you know why? (Hint: look at the dimensions of the matrix)\n",
    "- Got an error. the matrices are 2x2 and 3x3, so can't multiply need number of rows to match columns of other "
   ]
  },
  {
   "cell_type": "code",
   "execution_count": 14,
   "id": "a3b0a245",
   "metadata": {},
   "outputs": [
    {
     "ename": "ValueError",
     "evalue": "matmul: Input operand 1 has a mismatch in its core dimension 0, with gufunc signature (n?,k),(k,m?)->(n?,m?) (size 3 is different from 2)",
     "output_type": "error",
     "traceback": [
      "\u001b[1;31m---------------------------------------------------------------------------\u001b[0m",
      "\u001b[1;31mValueError\u001b[0m                                Traceback (most recent call last)",
      "Cell \u001b[1;32mIn[14], line 1\u001b[0m\n\u001b[1;32m----> 1\u001b[0m matrixCA \u001b[38;5;241m=\u001b[39m np\u001b[38;5;241m.\u001b[39mmatmul(matrixC, matrixA)\n",
      "\u001b[1;31mValueError\u001b[0m: matmul: Input operand 1 has a mismatch in its core dimension 0, with gufunc signature (n?,k),(k,m?)->(n?,m?) (size 3 is different from 2)"
     ]
    }
   ],
   "source": [
    "#dimensions of matrix not the same so can multiply\n",
    "matrixCA = np.matmul(matrixC, matrixA)\n"
   ]
  },
  {
   "cell_type": "markdown",
   "id": "6ae4c4c7",
   "metadata": {},
   "source": [
    "3. Evaluate the product of $\\bf{C}\\cdot\\bf{D}$ and then $\\bf{D}\\cdot\\bf{C}$. Do you get the same results? \n",
    "- different answers CD != DC"
   ]
  },
  {
   "cell_type": "code",
   "execution_count": 16,
   "id": "ef09127a",
   "metadata": {},
   "outputs": [
    {
     "name": "stdout",
     "output_type": "stream",
     "text": [
      "[[-5  6]\n",
      " [ 5 -6]]\n",
      "\n",
      "[[-2  2]\n",
      " [ 9 -9]]\n"
     ]
    }
   ],
   "source": [
    "matrixCD = np.matmul(matrixC, matrixD)\n",
    "print(matrixCD)\n",
    "print('')\n",
    "matrixDC = np.matmul(matrixD, matrixC)\n",
    "print(matrixDC)\n",
    "#not same result, matrix multiplication is not symmetrical"
   ]
  },
  {
   "cell_type": "markdown",
   "id": "2c9c038a",
   "metadata": {},
   "source": [
    "4. Find the transpose of $\\bf{B}$"
   ]
  },
  {
   "cell_type": "code",
   "execution_count": 18,
   "id": "cc53078b",
   "metadata": {},
   "outputs": [
    {
     "data": {
      "text/plain": [
       "array([[ 2,  3,  1],\n",
       "       [ 4, -3,  7]])"
      ]
     },
     "execution_count": 18,
     "metadata": {},
     "output_type": "execute_result"
    }
   ],
   "source": [
    "transB = matrixB.T\n",
    "transB"
   ]
  },
  {
   "cell_type": "markdown",
   "id": "d0bb231c",
   "metadata": {},
   "source": [
    "5. Add $\\bf{C} + \\bf{D}$"
   ]
  },
  {
   "cell_type": "code",
   "execution_count": 20,
   "id": "67c6fea8",
   "metadata": {},
   "outputs": [
    {
     "data": {
      "text/plain": [
       "array([[ 1,  1],\n",
       "       [-2,  5]])"
      ]
     },
     "execution_count": 20,
     "metadata": {},
     "output_type": "execute_result"
    }
   ],
   "source": [
    "matrixC_D = matrixC + matrixD\n",
    "matrixC_D"
   ]
  },
  {
   "cell_type": "markdown",
   "id": "51215fe4",
   "metadata": {},
   "source": [
    "6. Compute the determinate of $\\bf{C}$"
   ]
  },
  {
   "cell_type": "code",
   "execution_count": 22,
   "id": "cf9dd452",
   "metadata": {},
   "outputs": [
    {
     "data": {
      "text/plain": [
       "0.0"
      ]
     },
     "execution_count": 22,
     "metadata": {},
     "output_type": "execute_result"
    }
   ],
   "source": [
    "detC = np.linalg.det(matrixC)\n",
    "detC"
   ]
  },
  {
   "cell_type": "markdown",
   "id": "7ada1b24",
   "metadata": {},
   "source": [
    "7. Compute the determinate of $\\bf{A}$"
   ]
  },
  {
   "cell_type": "code",
   "execution_count": 25,
   "id": "32c185f8",
   "metadata": {},
   "outputs": [
    {
     "data": {
      "text/plain": [
       "-4031.25"
      ]
     },
     "execution_count": 25,
     "metadata": {},
     "output_type": "execute_result"
    }
   ],
   "source": [
    "detA = np.linalg.det(matrixA)\n",
    "detA"
   ]
  },
  {
   "cell_type": "code",
   "execution_count": null,
   "id": "79598ffd",
   "metadata": {},
   "outputs": [],
   "source": []
  }
 ],
 "metadata": {
  "kernelspec": {
   "display_name": "Python 3 (ipykernel)",
   "language": "python",
   "name": "python3"
  },
  "language_info": {
   "codemirror_mode": {
    "name": "ipython",
    "version": 3
   },
   "file_extension": ".py",
   "mimetype": "text/x-python",
   "name": "python",
   "nbconvert_exporter": "python",
   "pygments_lexer": "ipython3",
   "version": "3.11.4"
  }
 },
 "nbformat": 4,
 "nbformat_minor": 5
}
